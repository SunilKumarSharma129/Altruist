{
  "nbformat": 4,
  "nbformat_minor": 0,
  "metadata": {
    "colab": {
      "name": "EmoNet.ipynb",
      "provenance": [],
      "collapsed_sections": []
    },
    "kernelspec": {
      "name": "python3",
      "display_name": "Python 3"
    },
    "language_info": {
      "name": "python"
    },
    "accelerator": "GPU"
  },
  "cells": [
    {
      "cell_type": "code",
      "metadata": {
        "id": "8hcuqCOVuLpJ"
      },
      "source": [
        "import os\n",
        "import numpy as np\n",
        "import pandas as pd\n",
        "%matplotlib inline\n",
        "import matplotlib.pyplot as plt\n",
        "import matplotlib.image as mpimg\n",
        "import numpy as np\n",
        "import pandas as pd\n",
        "\n",
        "import seaborn as sns\n",
        "\n",
        "import tensorflow as tf\n",
        "from tensorflow.keras import optimizers\n",
        "from tensorflow.keras.datasets import mnist\n",
        "from tensorflow.keras.models import Sequential\n",
        "from tensorflow.keras.layers import Flatten, Dense, Conv2D, MaxPooling2D\n",
        "from tensorflow.keras.layers import Dropout, BatchNormalization, LeakyReLU, Activation, AveragePooling2D\n",
        "from tensorflow.keras.callbacks import Callback, EarlyStopping, ReduceLROnPlateau\n",
        "from tensorflow.keras.preprocessing.image import ImageDataGenerator\n",
        "\n",
        "from keras.utils import np_utils"
      ],
      "execution_count": 1,
      "outputs": []
    },
    {
      "cell_type": "code",
      "metadata": {
        "id": "JEePr8WQuelT",
        "colab": {
          "resources": {
            "http://localhost:8080/nbextensions/google.colab/files.js": {
              "data": "Ly8gQ29weXJpZ2h0IDIwMTcgR29vZ2xlIExMQwovLwovLyBMaWNlbnNlZCB1bmRlciB0aGUgQXBhY2hlIExpY2Vuc2UsIFZlcnNpb24gMi4wICh0aGUgIkxpY2Vuc2UiKTsKLy8geW91IG1heSBub3QgdXNlIHRoaXMgZmlsZSBleGNlcHQgaW4gY29tcGxpYW5jZSB3aXRoIHRoZSBMaWNlbnNlLgovLyBZb3UgbWF5IG9idGFpbiBhIGNvcHkgb2YgdGhlIExpY2Vuc2UgYXQKLy8KLy8gICAgICBodHRwOi8vd3d3LmFwYWNoZS5vcmcvbGljZW5zZXMvTElDRU5TRS0yLjAKLy8KLy8gVW5sZXNzIHJlcXVpcmVkIGJ5IGFwcGxpY2FibGUgbGF3IG9yIGFncmVlZCB0byBpbiB3cml0aW5nLCBzb2Z0d2FyZQovLyBkaXN0cmlidXRlZCB1bmRlciB0aGUgTGljZW5zZSBpcyBkaXN0cmlidXRlZCBvbiBhbiAiQVMgSVMiIEJBU0lTLAovLyBXSVRIT1VUIFdBUlJBTlRJRVMgT1IgQ09ORElUSU9OUyBPRiBBTlkgS0lORCwgZWl0aGVyIGV4cHJlc3Mgb3IgaW1wbGllZC4KLy8gU2VlIHRoZSBMaWNlbnNlIGZvciB0aGUgc3BlY2lmaWMgbGFuZ3VhZ2UgZ292ZXJuaW5nIHBlcm1pc3Npb25zIGFuZAovLyBsaW1pdGF0aW9ucyB1bmRlciB0aGUgTGljZW5zZS4KCi8qKgogKiBAZmlsZW92ZXJ2aWV3IEhlbHBlcnMgZm9yIGdvb2dsZS5jb2xhYiBQeXRob24gbW9kdWxlLgogKi8KKGZ1bmN0aW9uKHNjb3BlKSB7CmZ1bmN0aW9uIHNwYW4odGV4dCwgc3R5bGVBdHRyaWJ1dGVzID0ge30pIHsKICBjb25zdCBlbGVtZW50ID0gZG9jdW1lbnQuY3JlYXRlRWxlbWVudCgnc3BhbicpOwogIGVsZW1lbnQudGV4dENvbnRlbnQgPSB0ZXh0OwogIGZvciAoY29uc3Qga2V5IG9mIE9iamVjdC5rZXlzKHN0eWxlQXR0cmlidXRlcykpIHsKICAgIGVsZW1lbnQuc3R5bGVba2V5XSA9IHN0eWxlQXR0cmlidXRlc1trZXldOwogIH0KICByZXR1cm4gZWxlbWVudDsKfQoKLy8gTWF4IG51bWJlciBvZiBieXRlcyB3aGljaCB3aWxsIGJlIHVwbG9hZGVkIGF0IGEgdGltZS4KY29uc3QgTUFYX1BBWUxPQURfU0laRSA9IDEwMCAqIDEwMjQ7CgpmdW5jdGlvbiBfdXBsb2FkRmlsZXMoaW5wdXRJZCwgb3V0cHV0SWQpIHsKICBjb25zdCBzdGVwcyA9IHVwbG9hZEZpbGVzU3RlcChpbnB1dElkLCBvdXRwdXRJZCk7CiAgY29uc3Qgb3V0cHV0RWxlbWVudCA9IGRvY3VtZW50LmdldEVsZW1lbnRCeUlkKG91dHB1dElkKTsKICAvLyBDYWNoZSBzdGVwcyBvbiB0aGUgb3V0cHV0RWxlbWVudCB0byBtYWtlIGl0IGF2YWlsYWJsZSBmb3IgdGhlIG5leHQgY2FsbAogIC8vIHRvIHVwbG9hZEZpbGVzQ29udGludWUgZnJvbSBQeXRob24uCiAgb3V0cHV0RWxlbWVudC5zdGVwcyA9IHN0ZXBzOwoKICByZXR1cm4gX3VwbG9hZEZpbGVzQ29udGludWUob3V0cHV0SWQpOwp9CgovLyBUaGlzIGlzIHJvdWdobHkgYW4gYXN5bmMgZ2VuZXJhdG9yIChub3Qgc3VwcG9ydGVkIGluIHRoZSBicm93c2VyIHlldCksCi8vIHdoZXJlIHRoZXJlIGFyZSBtdWx0aXBsZSBhc3luY2hyb25vdXMgc3RlcHMgYW5kIHRoZSBQeXRob24gc2lkZSBpcyBnb2luZwovLyB0byBwb2xsIGZvciBjb21wbGV0aW9uIG9mIGVhY2ggc3RlcC4KLy8gVGhpcyB1c2VzIGEgUHJvbWlzZSB0byBibG9jayB0aGUgcHl0aG9uIHNpZGUgb24gY29tcGxldGlvbiBvZiBlYWNoIHN0ZXAsCi8vIHRoZW4gcGFzc2VzIHRoZSByZXN1bHQgb2YgdGhlIHByZXZpb3VzIHN0ZXAgYXMgdGhlIGlucHV0IHRvIHRoZSBuZXh0IHN0ZXAuCmZ1bmN0aW9uIF91cGxvYWRGaWxlc0NvbnRpbnVlKG91dHB1dElkKSB7CiAgY29uc3Qgb3V0cHV0RWxlbWVudCA9IGRvY3VtZW50LmdldEVsZW1lbnRCeUlkKG91dHB1dElkKTsKICBjb25zdCBzdGVwcyA9IG91dHB1dEVsZW1lbnQuc3RlcHM7CgogIGNvbnN0IG5leHQgPSBzdGVwcy5uZXh0KG91dHB1dEVsZW1lbnQubGFzdFByb21pc2VWYWx1ZSk7CiAgcmV0dXJuIFByb21pc2UucmVzb2x2ZShuZXh0LnZhbHVlLnByb21pc2UpLnRoZW4oKHZhbHVlKSA9PiB7CiAgICAvLyBDYWNoZSB0aGUgbGFzdCBwcm9taXNlIHZhbHVlIHRvIG1ha2UgaXQgYXZhaWxhYmxlIHRvIHRoZSBuZXh0CiAgICAvLyBzdGVwIG9mIHRoZSBnZW5lcmF0b3IuCiAgICBvdXRwdXRFbGVtZW50Lmxhc3RQcm9taXNlVmFsdWUgPSB2YWx1ZTsKICAgIHJldHVybiBuZXh0LnZhbHVlLnJlc3BvbnNlOwogIH0pOwp9CgovKioKICogR2VuZXJhdG9yIGZ1bmN0aW9uIHdoaWNoIGlzIGNhbGxlZCBiZXR3ZWVuIGVhY2ggYXN5bmMgc3RlcCBvZiB0aGUgdXBsb2FkCiAqIHByb2Nlc3MuCiAqIEBwYXJhbSB7c3RyaW5nfSBpbnB1dElkIEVsZW1lbnQgSUQgb2YgdGhlIGlucHV0IGZpbGUgcGlja2VyIGVsZW1lbnQuCiAqIEBwYXJhbSB7c3RyaW5nfSBvdXRwdXRJZCBFbGVtZW50IElEIG9mIHRoZSBvdXRwdXQgZGlzcGxheS4KICogQHJldHVybiB7IUl0ZXJhYmxlPCFPYmplY3Q+fSBJdGVyYWJsZSBvZiBuZXh0IHN0ZXBzLgogKi8KZnVuY3Rpb24qIHVwbG9hZEZpbGVzU3RlcChpbnB1dElkLCBvdXRwdXRJZCkgewogIGNvbnN0IGlucHV0RWxlbWVudCA9IGRvY3VtZW50LmdldEVsZW1lbnRCeUlkKGlucHV0SWQpOwogIGlucHV0RWxlbWVudC5kaXNhYmxlZCA9IGZhbHNlOwoKICBjb25zdCBvdXRwdXRFbGVtZW50ID0gZG9jdW1lbnQuZ2V0RWxlbWVudEJ5SWQob3V0cHV0SWQpOwogIG91dHB1dEVsZW1lbnQuaW5uZXJIVE1MID0gJyc7CgogIGNvbnN0IHBpY2tlZFByb21pc2UgPSBuZXcgUHJvbWlzZSgocmVzb2x2ZSkgPT4gewogICAgaW5wdXRFbGVtZW50LmFkZEV2ZW50TGlzdGVuZXIoJ2NoYW5nZScsIChlKSA9PiB7CiAgICAgIHJlc29sdmUoZS50YXJnZXQuZmlsZXMpOwogICAgfSk7CiAgfSk7CgogIGNvbnN0IGNhbmNlbCA9IGRvY3VtZW50LmNyZWF0ZUVsZW1lbnQoJ2J1dHRvbicpOwogIGlucHV0RWxlbWVudC5wYXJlbnRFbGVtZW50LmFwcGVuZENoaWxkKGNhbmNlbCk7CiAgY2FuY2VsLnRleHRDb250ZW50ID0gJ0NhbmNlbCB1cGxvYWQnOwogIGNvbnN0IGNhbmNlbFByb21pc2UgPSBuZXcgUHJvbWlzZSgocmVzb2x2ZSkgPT4gewogICAgY2FuY2VsLm9uY2xpY2sgPSAoKSA9PiB7CiAgICAgIHJlc29sdmUobnVsbCk7CiAgICB9OwogIH0pOwoKICAvLyBXYWl0IGZvciB0aGUgdXNlciB0byBwaWNrIHRoZSBmaWxlcy4KICBjb25zdCBmaWxlcyA9IHlpZWxkIHsKICAgIHByb21pc2U6IFByb21pc2UucmFjZShbcGlja2VkUHJvbWlzZSwgY2FuY2VsUHJvbWlzZV0pLAogICAgcmVzcG9uc2U6IHsKICAgICAgYWN0aW9uOiAnc3RhcnRpbmcnLAogICAgfQogIH07CgogIGNhbmNlbC5yZW1vdmUoKTsKCiAgLy8gRGlzYWJsZSB0aGUgaW5wdXQgZWxlbWVudCBzaW5jZSBmdXJ0aGVyIHBpY2tzIGFyZSBub3QgYWxsb3dlZC4KICBpbnB1dEVsZW1lbnQuZGlzYWJsZWQgPSB0cnVlOwoKICBpZiAoIWZpbGVzKSB7CiAgICByZXR1cm4gewogICAgICByZXNwb25zZTogewogICAgICAgIGFjdGlvbjogJ2NvbXBsZXRlJywKICAgICAgfQogICAgfTsKICB9CgogIGZvciAoY29uc3QgZmlsZSBvZiBmaWxlcykgewogICAgY29uc3QgbGkgPSBkb2N1bWVudC5jcmVhdGVFbGVtZW50KCdsaScpOwogICAgbGkuYXBwZW5kKHNwYW4oZmlsZS5uYW1lLCB7Zm9udFdlaWdodDogJ2JvbGQnfSkpOwogICAgbGkuYXBwZW5kKHNwYW4oCiAgICAgICAgYCgke2ZpbGUudHlwZSB8fCAnbi9hJ30pIC0gJHtmaWxlLnNpemV9IGJ5dGVzLCBgICsKICAgICAgICBgbGFzdCBtb2RpZmllZDogJHsKICAgICAgICAgICAgZmlsZS5sYXN0TW9kaWZpZWREYXRlID8gZmlsZS5sYXN0TW9kaWZpZWREYXRlLnRvTG9jYWxlRGF0ZVN0cmluZygpIDoKICAgICAgICAgICAgICAgICAgICAgICAgICAgICAgICAgICAgJ24vYSd9IC0gYCkpOwogICAgY29uc3QgcGVyY2VudCA9IHNwYW4oJzAlIGRvbmUnKTsKICAgIGxpLmFwcGVuZENoaWxkKHBlcmNlbnQpOwoKICAgIG91dHB1dEVsZW1lbnQuYXBwZW5kQ2hpbGQobGkpOwoKICAgIGNvbnN0IGZpbGVEYXRhUHJvbWlzZSA9IG5ldyBQcm9taXNlKChyZXNvbHZlKSA9PiB7CiAgICAgIGNvbnN0IHJlYWRlciA9IG5ldyBGaWxlUmVhZGVyKCk7CiAgICAgIHJlYWRlci5vbmxvYWQgPSAoZSkgPT4gewogICAgICAgIHJlc29sdmUoZS50YXJnZXQucmVzdWx0KTsKICAgICAgfTsKICAgICAgcmVhZGVyLnJlYWRBc0FycmF5QnVmZmVyKGZpbGUpOwogICAgfSk7CiAgICAvLyBXYWl0IGZvciB0aGUgZGF0YSB0byBiZSByZWFkeS4KICAgIGxldCBmaWxlRGF0YSA9IHlpZWxkIHsKICAgICAgcHJvbWlzZTogZmlsZURhdGFQcm9taXNlLAogICAgICByZXNwb25zZTogewogICAgICAgIGFjdGlvbjogJ2NvbnRpbnVlJywKICAgICAgfQogICAgfTsKCiAgICAvLyBVc2UgYSBjaHVua2VkIHNlbmRpbmcgdG8gYXZvaWQgbWVzc2FnZSBzaXplIGxpbWl0cy4gU2VlIGIvNjIxMTU2NjAuCiAgICBsZXQgcG9zaXRpb24gPSAwOwogICAgd2hpbGUgKHBvc2l0aW9uIDwgZmlsZURhdGEuYnl0ZUxlbmd0aCkgewogICAgICBjb25zdCBsZW5ndGggPSBNYXRoLm1pbihmaWxlRGF0YS5ieXRlTGVuZ3RoIC0gcG9zaXRpb24sIE1BWF9QQVlMT0FEX1NJWkUpOwogICAgICBjb25zdCBjaHVuayA9IG5ldyBVaW50OEFycmF5KGZpbGVEYXRhLCBwb3NpdGlvbiwgbGVuZ3RoKTsKICAgICAgcG9zaXRpb24gKz0gbGVuZ3RoOwoKICAgICAgY29uc3QgYmFzZTY0ID0gYnRvYShTdHJpbmcuZnJvbUNoYXJDb2RlLmFwcGx5KG51bGwsIGNodW5rKSk7CiAgICAgIHlpZWxkIHsKICAgICAgICByZXNwb25zZTogewogICAgICAgICAgYWN0aW9uOiAnYXBwZW5kJywKICAgICAgICAgIGZpbGU6IGZpbGUubmFtZSwKICAgICAgICAgIGRhdGE6IGJhc2U2NCwKICAgICAgICB9LAogICAgICB9OwogICAgICBwZXJjZW50LnRleHRDb250ZW50ID0KICAgICAgICAgIGAke01hdGgucm91bmQoKHBvc2l0aW9uIC8gZmlsZURhdGEuYnl0ZUxlbmd0aCkgKiAxMDApfSUgZG9uZWA7CiAgICB9CiAgfQoKICAvLyBBbGwgZG9uZS4KICB5aWVsZCB7CiAgICByZXNwb25zZTogewogICAgICBhY3Rpb246ICdjb21wbGV0ZScsCiAgICB9CiAgfTsKfQoKc2NvcGUuZ29vZ2xlID0gc2NvcGUuZ29vZ2xlIHx8IHt9OwpzY29wZS5nb29nbGUuY29sYWIgPSBzY29wZS5nb29nbGUuY29sYWIgfHwge307CnNjb3BlLmdvb2dsZS5jb2xhYi5fZmlsZXMgPSB7CiAgX3VwbG9hZEZpbGVzLAogIF91cGxvYWRGaWxlc0NvbnRpbnVlLAp9Owp9KShzZWxmKTsK",
              "ok": true,
              "headers": [
                [
                  "content-type",
                  "application/javascript"
                ]
              ],
              "status": 200,
              "status_text": ""
            }
          },
          "base_uri": "https://localhost:8080/",
          "height": 463
        },
        "outputId": "5b1a7c37-f555-4b40-8016-ecbed3d993f9"
      },
      "source": [
        "! pip install -q kaggle\n",
        "\n",
        "from google.colab import files\n",
        "\n",
        "files.upload()\n",
        "\n",
        "\n",
        "! mkdir ~/.kaggle\n",
        "\n",
        "! cp kaggle.json ~/.kaggle/\n",
        "\n",
        "! chmod 600 ~/.kaggle/kaggle.json\n",
        "! kaggle datasets list"
      ],
      "execution_count": 2,
      "outputs": [
        {
          "output_type": "display_data",
          "data": {
            "text/html": [
              "\n",
              "     <input type=\"file\" id=\"files-233c3581-5976-4194-a826-89b79b2da662\" name=\"files[]\" multiple disabled\n",
              "        style=\"border:none\" />\n",
              "     <output id=\"result-233c3581-5976-4194-a826-89b79b2da662\">\n",
              "      Upload widget is only available when the cell has been executed in the\n",
              "      current browser session. Please rerun this cell to enable.\n",
              "      </output>\n",
              "      <script src=\"/nbextensions/google.colab/files.js\"></script> "
            ],
            "text/plain": [
              "<IPython.core.display.HTML object>"
            ]
          },
          "metadata": {
            "tags": []
          }
        },
        {
          "output_type": "stream",
          "text": [
            "Saving kaggle.json to kaggle.json\n",
            "Warning: Looks like you're using an outdated API Version, please consider updating (server 1.5.12 / client 1.5.4)\n",
            "ref                                                         title                                              size  lastUpdated          downloadCount  \n",
            "----------------------------------------------------------  ------------------------------------------------  -----  -------------------  -------------  \n",
            "gpreda/reddit-vaccine-myths                                 Reddit Vaccine Myths                              223KB  2021-04-09 08:39:14           2339  \n",
            "crowww/a-large-scale-fish-dataset                           A Large Scale Fish Dataset                          3GB  2021-02-17 16:10:44           1360  \n",
            "dhruvildave/wikibooks-dataset                               Wikibooks Dataset                                   1GB  2021-02-18 10:08:27           1032  \n",
            "imsparsh/musicnet-dataset                                   MusicNet Dataset                                   22GB  2021-02-18 14:12:19            486  \n",
            "promptcloud/careerbuilder-job-listing-2020                  Careerbuilder Job Listing 2020                     42MB  2021-03-05 06:59:52            226  \n",
            "mathurinache/twitter-edge-nodes                             Twitter Edge Nodes                                342MB  2021-03-08 06:43:04            120  \n",
            "alsgroup/end-als                                            End ALS Kaggle Challenge                           12GB  2021-04-08 12:16:37            362  \n",
            "simiotic/github-code-snippets                               GitHub Code Snippets                                7GB  2021-03-03 11:34:39             50  \n",
            "fatiimaezzahra/famous-iconic-women                          Famous Iconic Women                               838MB  2021-02-28 14:56:00            333  \n",
            "mathurinache/the-lj-speech-dataset                          The LJ Speech Dataset                               3GB  2021-02-15 09:19:54             82  \n",
            "nickuzmenkov/nih-chest-xrays-tfrecords                      NIH Chest X-rays TFRecords                         11GB  2021-03-09 04:49:23            217  \n",
            "nickuzmenkov/ranzcr-clip-kfold-tfrecords                    RANZCR CLiP KFold TFRecords                         2GB  2021-02-21 13:29:51             49  \n",
            "coloradokb/dandelionimages                                  DandelionImages                                     4GB  2021-02-19 20:03:47            144  \n",
            "stuartjames/lights                                          LightS: Light Specularity Dataset                  18GB  2021-02-18 14:32:26             28  \n",
            "landrykezebou/lvzhdr-tone-mapping-benchmark-dataset-tmonet  LVZ-HDR Tone Mapping Benchmark Dataset (TMO-Net)   24GB  2021-03-01 05:03:40             40  \n",
            "imsparsh/accentdb-core-extended                             AccentDB - Core & Extended                          6GB  2021-02-17 14:22:54             34  \n",
            "shivamb/netflix-shows                                       Netflix Movies and TV Shows                         1MB  2021-01-18 16:20:26         131873  \n",
            "jsphyg/weather-dataset-rattle-package                       Rain in Australia                                   4MB  2020-12-11 10:26:12          44174  \n",
            "arashnic/hr-analytics-job-change-of-data-scientists         HR Analytics: Job Change of Data Scientists       295KB  2020-12-07 00:25:10          19466  \n",
            "datasnaek/youtube-new                                       Trending YouTube Video Statistics                 201MB  2019-06-03 00:56:47         134378  \n"
          ],
          "name": "stdout"
        }
      ]
    },
    {
      "cell_type": "code",
      "metadata": {
        "id": "m43dSEpwujd-",
        "colab": {
          "base_uri": "https://localhost:8080/"
        },
        "outputId": "03e3ae9b-c3b3-4343-d8a1-43c3c68f1f55"
      },
      "source": [
        "! kaggle datasets download -d mahmoudima/mma-facial-expression\n",
        "import shutil\n",
        "shutil.unpack_archive('/content/mma-facial-expression.zip', '/content/sample_data')"
      ],
      "execution_count": 3,
      "outputs": [
        {
          "output_type": "stream",
          "text": [
            "Downloading mma-facial-expression.zip to /content\n",
            " 88% 146M/166M [00:01<00:00, 103MB/s] \n",
            "100% 166M/166M [00:01<00:00, 125MB/s]\n"
          ],
          "name": "stdout"
        }
      ]
    },
    {
      "cell_type": "code",
      "metadata": {
        "id": "PqCIeXlXukIv"
      },
      "source": [
        "import os\n",
        "dir = '/content/sample_data/MMAFEDB/train/surprise'\n",
        "# dir = '/content/sample_data/MMAFEDB/train/fear'\n",
        "# dir = \"/content/sample_data/MMAFEDB/train/.ipynb_checkpoints\"\n",
        "import os\n",
        "import shutil\n",
        "\n",
        "#  os.listdir(\"/content/sample_data/MMAFEDB/train/.ipynb_checkpoints\") \n",
        "\n",
        "shutil.rmtree(dir) \n"
      ],
      "execution_count": 13,
      "outputs": []
    },
    {
      "cell_type": "code",
      "metadata": {
        "id": "7447w4nWumk8",
        "colab": {
          "base_uri": "https://localhost:8080/"
        },
        "outputId": "7ea32dad-f8a5-48c2-9b61-c7366ae672c6"
      },
      "source": [
        "happy_train = os.path.join('/content/sample_data/MMAFEDB/train/happy')\n",
        "neutral_train = os.path.join('/content/sample_data/MMAFEDB/train/neutral')\n",
        "sad_train = os.path.join('/content/sample_data/MMAFEDB/train/sad')\n",
        "\n",
        "\n",
        "print(\"Number of training images for happy = \"+str(len(os.listdir(happy_train))))\n",
        "print(\"Number of training images for neutral = \"+str(len(os.listdir(neutral_train))))\n",
        "print(\"Number of training images for sad = \"+str(len(os.listdir(sad_train))))"
      ],
      "execution_count": 14,
      "outputs": [
        {
          "output_type": "stream",
          "text": [
            "Number of training images for happy = 28592\n",
            "Number of training images for neutral = 29384\n",
            "Number of training images for sad = 12223\n"
          ],
          "name": "stdout"
        }
      ]
    },
    {
      "cell_type": "code",
      "metadata": {
        "id": "kBxSjaxrupPQ",
        "colab": {
          "base_uri": "https://localhost:8080/"
        },
        "outputId": "cf34dbce-f721-42ac-bd51-bb9eec64aaf2"
      },
      "source": [
        "happy_valid = os.path.join('/content/sample_data/MMAFEDB/valid/happy')\n",
        "neutral_valid = os.path.join('/content/sample_data/MMAFEDB/valid/neutral')\n",
        "sad_valid = os.path.join('/content/sample_data/MMAFEDB/valid/sad')\n",
        "\n",
        "\n",
        "print(\"Number of validation images for happy = \"+str(len(os.listdir(happy_valid))))\n",
        "print(\"Number of validation images for neutral = \"+str(len(os.listdir(neutral_valid))))\n",
        "print(\"Number of validation images for sad = \"+str(len(os.listdir(sad_valid))))"
      ],
      "execution_count": 15,
      "outputs": [
        {
          "output_type": "stream",
          "text": [
            "Number of validation images for happy = 5475\n",
            "Number of validation images for neutral = 5839\n",
            "Number of validation images for sad = 2236\n"
          ],
          "name": "stdout"
        }
      ]
    },
    {
      "cell_type": "code",
      "metadata": {
        "id": "KQVob42yurw9",
        "colab": {
          "base_uri": "https://localhost:8080/"
        },
        "outputId": "53744984-0579-4c21-fead-b027d16f5afb"
      },
      "source": [
        "Training_dir = '/content/sample_data/MMAFEDB/train'\n",
        "Validation_dir = '/content/sample_data/MMAFEDB/valid'\n",
        "\n",
        "training_datagen = tf.keras.preprocessing.image.ImageDataGenerator(rescale = 1./255.0,                       \n",
        "                                     rotation_range = 90,                       \n",
        "                                     width_shift_range = 0.3,                   \n",
        "                                     height_shift_range = 0.3,                  \n",
        "                                     shear_range = 0.2,                         \n",
        "                                     zoom_range = 0.2,                          \n",
        "                                     horizontal_flip = True,                    \n",
        "                                     fill_mode = 'nearest'                      \n",
        "                                     )\n",
        "\n",
        "\n",
        "validation_datagen = tf.keras.preprocessing.image.ImageDataGenerator(rescale = 1./255.0)\n",
        "\n",
        "\n",
        "\n",
        "train_generation = training_datagen.flow_from_directory(Training_dir,\n",
        "                                                       target_size = (48,48), \n",
        "                                                       class_mode = 'categorical', \n",
        "                                                       batch_size = 64)         \n",
        "\n",
        "valid_generation = validation_datagen.flow_from_directory(Validation_dir,\n",
        "                                     target_size = (48,48),\n",
        "                                     class_mode = 'categorical',\n",
        "                                     batch_size = 64)"
      ],
      "execution_count": 16,
      "outputs": [
        {
          "output_type": "stream",
          "text": [
            "Found 70199 images belonging to 3 classes.\n",
            "Found 13550 images belonging to 3 classes.\n"
          ],
          "name": "stdout"
        }
      ]
    },
    {
      "cell_type": "code",
      "metadata": {
        "id": "qawt0FNSuef8"
      },
      "source": [
        "initializer = tf.keras.initializers.he_normal()"
      ],
      "execution_count": 17,
      "outputs": []
    },
    {
      "cell_type": "code",
      "metadata": {
        "id": "YtxA1oSsueaF"
      },
      "source": [
        "model = tf.keras.models.Sequential([\n",
        "    Conv2D(64, kernel_size=(5,5), input_shape=(48, 48, 3), activation='elu', padding='same', kernel_initializer=initializer),\n",
        "    BatchNormalization(),\n",
        "\n",
        "    Conv2D(64, kernel_size = (5,5), strides = (1,1),activation='elu', padding = 'same', kernel_initializer = initializer),\n",
        "    BatchNormalization(),\n",
        "\n",
        "\n",
        "    Conv2D(64, kernel_size = (3,3), strides = (1,1), activation='elu', padding = 'same', kernel_initializer = initializer),\n",
        "    BatchNormalization(),\n",
        "\n",
        "    MaxPooling2D((2, 2)),\n",
        "    Dropout(0.3),\n",
        "\n",
        "    Conv2D(128, kernel_size = (3,3), strides = (1,1), activation='elu', padding = 'same', kernel_initializer = initializer),\n",
        "    BatchNormalization(),\n",
        "\n",
        "    Conv2D(128, kernel_size = (3,3), strides = (1,1), activation='elu', padding = 'same', kernel_initializer = initializer),\n",
        "    BatchNormalization(),\n",
        "\n",
        "\n",
        "    Conv2D(128, kernel_size=(3,3), strides = (1,1), activation='elu', padding='same', kernel_initializer=initializer),\n",
        "    BatchNormalization(),\n",
        "\n",
        "    MaxPooling2D((2, 2)),\n",
        "    Dropout(0.35),\n",
        "\n",
        "    Conv2D(256, kernel_size = (3,3), strides = (1,1), activation='elu', padding = 'same', kernel_initializer = initializer),\n",
        "    BatchNormalization(),\n",
        "\n",
        "    Conv2D(256, kernel_size = (3,3), strides = (1,1), activation='elu', padding = 'same', kernel_initializer = initializer),\n",
        "    BatchNormalization(),\n",
        "    \n",
        "    Conv2D(256, kernel_size = (3,3), strides = (1,1), activation='elu', padding = 'same', kernel_initializer = initializer),\n",
        "    BatchNormalization(),\n",
        "\n",
        "    MaxPooling2D(pool_size=(2,2)),\n",
        "    Dropout(0.4),\n",
        "\n",
        "    Flatten(),\n",
        "    \n",
        "    Dense(128, activation='elu', kernel_initializer=initializer),\n",
        "    BatchNormalization(),\n",
        "    Dropout(0.45),\n",
        "\n",
        "    Dense(3, activation='softmax', kernel_initializer='glorot_uniform')\n",
        "    ])"
      ],
      "execution_count": 18,
      "outputs": []
    },
    {
      "cell_type": "code",
      "metadata": {
        "id": "pQycjGSKueSj",
        "colab": {
          "base_uri": "https://localhost:8080/"
        },
        "outputId": "321aea3d-32ef-4d3a-bf55-2782338ba8dd"
      },
      "source": [
        "model.summary()"
      ],
      "execution_count": 19,
      "outputs": [
        {
          "output_type": "stream",
          "text": [
            "Model: \"sequential\"\n",
            "_________________________________________________________________\n",
            "Layer (type)                 Output Shape              Param #   \n",
            "=================================================================\n",
            "conv2d (Conv2D)              (None, 48, 48, 64)        4864      \n",
            "_________________________________________________________________\n",
            "batch_normalization (BatchNo (None, 48, 48, 64)        256       \n",
            "_________________________________________________________________\n",
            "conv2d_1 (Conv2D)            (None, 48, 48, 64)        102464    \n",
            "_________________________________________________________________\n",
            "batch_normalization_1 (Batch (None, 48, 48, 64)        256       \n",
            "_________________________________________________________________\n",
            "conv2d_2 (Conv2D)            (None, 48, 48, 64)        36928     \n",
            "_________________________________________________________________\n",
            "batch_normalization_2 (Batch (None, 48, 48, 64)        256       \n",
            "_________________________________________________________________\n",
            "max_pooling2d (MaxPooling2D) (None, 24, 24, 64)        0         \n",
            "_________________________________________________________________\n",
            "dropout (Dropout)            (None, 24, 24, 64)        0         \n",
            "_________________________________________________________________\n",
            "conv2d_3 (Conv2D)            (None, 24, 24, 128)       73856     \n",
            "_________________________________________________________________\n",
            "batch_normalization_3 (Batch (None, 24, 24, 128)       512       \n",
            "_________________________________________________________________\n",
            "conv2d_4 (Conv2D)            (None, 24, 24, 128)       147584    \n",
            "_________________________________________________________________\n",
            "batch_normalization_4 (Batch (None, 24, 24, 128)       512       \n",
            "_________________________________________________________________\n",
            "conv2d_5 (Conv2D)            (None, 24, 24, 128)       147584    \n",
            "_________________________________________________________________\n",
            "batch_normalization_5 (Batch (None, 24, 24, 128)       512       \n",
            "_________________________________________________________________\n",
            "max_pooling2d_1 (MaxPooling2 (None, 12, 12, 128)       0         \n",
            "_________________________________________________________________\n",
            "dropout_1 (Dropout)          (None, 12, 12, 128)       0         \n",
            "_________________________________________________________________\n",
            "conv2d_6 (Conv2D)            (None, 12, 12, 256)       295168    \n",
            "_________________________________________________________________\n",
            "batch_normalization_6 (Batch (None, 12, 12, 256)       1024      \n",
            "_________________________________________________________________\n",
            "conv2d_7 (Conv2D)            (None, 12, 12, 256)       590080    \n",
            "_________________________________________________________________\n",
            "batch_normalization_7 (Batch (None, 12, 12, 256)       1024      \n",
            "_________________________________________________________________\n",
            "conv2d_8 (Conv2D)            (None, 12, 12, 256)       590080    \n",
            "_________________________________________________________________\n",
            "batch_normalization_8 (Batch (None, 12, 12, 256)       1024      \n",
            "_________________________________________________________________\n",
            "max_pooling2d_2 (MaxPooling2 (None, 6, 6, 256)         0         \n",
            "_________________________________________________________________\n",
            "dropout_2 (Dropout)          (None, 6, 6, 256)         0         \n",
            "_________________________________________________________________\n",
            "flatten (Flatten)            (None, 9216)              0         \n",
            "_________________________________________________________________\n",
            "dense (Dense)                (None, 128)               1179776   \n",
            "_________________________________________________________________\n",
            "batch_normalization_9 (Batch (None, 128)               512       \n",
            "_________________________________________________________________\n",
            "dropout_3 (Dropout)          (None, 128)               0         \n",
            "_________________________________________________________________\n",
            "dense_1 (Dense)              (None, 3)                 387       \n",
            "=================================================================\n",
            "Total params: 3,174,659\n",
            "Trainable params: 3,171,715\n",
            "Non-trainable params: 2,944\n",
            "_________________________________________________________________\n"
          ],
          "name": "stdout"
        }
      ]
    },
    {
      "cell_type": "code",
      "metadata": {
        "id": "EDyPvVPjueNO"
      },
      "source": [
        "model.compile(optimizer = 'adam', loss = 'categorical_crossentropy', metrics = ['accuracy'])"
      ],
      "execution_count": 20,
      "outputs": []
    },
    {
      "cell_type": "code",
      "metadata": {
        "id": "Ma-X9DdYueBf"
      },
      "source": [
        "class AccCallbck(tf.keras.callbacks.Callback):\n",
        "  def on_epoch_end(self,epoch,logs = {}):\n",
        "    if(logs.get('val_accuracy')>=0.70):\n",
        "      print('Desired Accuracy reached')\n",
        "      self.model.stop_training = True\n",
        "\n",
        "callbacks = AccCallbck()"
      ],
      "execution_count": 21,
      "outputs": []
    },
    {
      "cell_type": "code",
      "metadata": {
        "id": "jWh8hyR6ud7H"
      },
      "source": [
        "# import os\n",
        "# import shutil\n",
        "\n",
        "# #  os.listdir(\"/content/sample_data/MMAFEDB/train/.ipynb_checkpoints\") \n",
        "\n",
        "# shutil.rmtree(\"/content/sample_data/MMAFEDB/valid/angry\") "
      ],
      "execution_count": null,
      "outputs": []
    },
    {
      "cell_type": "code",
      "metadata": {
        "id": "3eHRb3Jbud0D",
        "colab": {
          "base_uri": "https://localhost:8080/"
        },
        "outputId": "a9f2a3d7-6201-4de0-8484-db7b644b661a"
      },
      "source": [
        "history = model.fit(\n",
        "    train_generation,\n",
        "    epochs=150,\n",
        "    steps_per_epoch = 1096,\n",
        "    validation_data = valid_generation,\n",
        "    verbose = 1,\n",
        "    validation_steps = 211,\n",
        "    callbacks=callbacks\n",
        ")"
      ],
      "execution_count": 22,
      "outputs": [
        {
          "output_type": "stream",
          "text": [
            "Epoch 1/150\n",
            "1096/1096 [==============================] - 134s 91ms/step - loss: 1.2881 - accuracy: 0.4014 - val_loss: 1.0356 - val_accuracy: 0.4305\n",
            "Epoch 2/150\n",
            "1096/1096 [==============================] - 99s 90ms/step - loss: 1.0237 - accuracy: 0.4546 - val_loss: 1.0267 - val_accuracy: 0.4421\n",
            "Epoch 3/150\n",
            "1096/1096 [==============================] - 99s 90ms/step - loss: 1.0118 - accuracy: 0.4752 - val_loss: 1.2306 - val_accuracy: 0.4172\n",
            "Epoch 4/150\n",
            "1096/1096 [==============================] - 98s 90ms/step - loss: 0.9880 - accuracy: 0.5143 - val_loss: 1.0450 - val_accuracy: 0.4713\n",
            "Epoch 5/150\n",
            "1096/1096 [==============================] - 99s 91ms/step - loss: 0.9101 - accuracy: 0.5795 - val_loss: 0.9591 - val_accuracy: 0.5591\n",
            "Epoch 6/150\n",
            "1096/1096 [==============================] - 100s 91ms/step - loss: 0.8010 - accuracy: 0.6492 - val_loss: 0.9285 - val_accuracy: 0.6053\n",
            "Epoch 7/150\n",
            "1096/1096 [==============================] - 98s 90ms/step - loss: 0.7294 - accuracy: 0.6892 - val_loss: 0.8675 - val_accuracy: 0.6190\n",
            "Epoch 8/150\n",
            "1096/1096 [==============================] - 99s 90ms/step - loss: 0.6926 - accuracy: 0.7072 - val_loss: 0.8283 - val_accuracy: 0.6434\n",
            "Epoch 9/150\n",
            "1096/1096 [==============================] - 99s 90ms/step - loss: 0.6640 - accuracy: 0.7218 - val_loss: 0.8653 - val_accuracy: 0.6264\n",
            "Epoch 10/150\n",
            "1096/1096 [==============================] - 98s 89ms/step - loss: 0.6459 - accuracy: 0.7295 - val_loss: 0.8253 - val_accuracy: 0.6515\n",
            "Epoch 11/150\n",
            "1096/1096 [==============================] - 98s 89ms/step - loss: 0.6343 - accuracy: 0.7351 - val_loss: 0.8351 - val_accuracy: 0.6508\n",
            "Epoch 12/150\n",
            "1096/1096 [==============================] - 98s 90ms/step - loss: 0.6161 - accuracy: 0.7455 - val_loss: 0.8313 - val_accuracy: 0.6511\n",
            "Epoch 13/150\n",
            "1096/1096 [==============================] - 98s 89ms/step - loss: 0.6040 - accuracy: 0.7518 - val_loss: 0.8290 - val_accuracy: 0.6525\n",
            "Epoch 14/150\n",
            "1096/1096 [==============================] - 97s 89ms/step - loss: 0.6021 - accuracy: 0.7532 - val_loss: 0.8104 - val_accuracy: 0.6674\n",
            "Epoch 15/150\n",
            "1096/1096 [==============================] - 98s 90ms/step - loss: 0.5985 - accuracy: 0.7536 - val_loss: 0.7846 - val_accuracy: 0.6749\n",
            "Epoch 16/150\n",
            "1096/1096 [==============================] - 98s 89ms/step - loss: 0.5892 - accuracy: 0.7576 - val_loss: 0.8423 - val_accuracy: 0.6560\n",
            "Epoch 17/150\n",
            "1096/1096 [==============================] - 100s 92ms/step - loss: 0.5840 - accuracy: 0.7577 - val_loss: 0.8855 - val_accuracy: 0.6509\n",
            "Epoch 18/150\n",
            "1096/1096 [==============================] - 99s 91ms/step - loss: 0.5767 - accuracy: 0.7625 - val_loss: 0.8980 - val_accuracy: 0.6348\n",
            "Epoch 19/150\n",
            "1096/1096 [==============================] - 99s 90ms/step - loss: 0.5653 - accuracy: 0.7704 - val_loss: 0.7857 - val_accuracy: 0.6678\n",
            "Epoch 20/150\n",
            "1096/1096 [==============================] - 99s 90ms/step - loss: 0.5655 - accuracy: 0.7675 - val_loss: 0.7775 - val_accuracy: 0.6609\n",
            "Epoch 21/150\n",
            "1096/1096 [==============================] - 99s 91ms/step - loss: 0.5679 - accuracy: 0.7676 - val_loss: 0.7638 - val_accuracy: 0.6856\n",
            "Epoch 22/150\n",
            "1096/1096 [==============================] - 99s 90ms/step - loss: 0.5597 - accuracy: 0.7714 - val_loss: 0.8216 - val_accuracy: 0.6681\n",
            "Epoch 23/150\n",
            "1096/1096 [==============================] - 100s 91ms/step - loss: 0.5580 - accuracy: 0.7717 - val_loss: 0.8351 - val_accuracy: 0.6600\n",
            "Epoch 24/150\n",
            "1096/1096 [==============================] - 101s 92ms/step - loss: 0.5585 - accuracy: 0.7676 - val_loss: 0.7758 - val_accuracy: 0.6765\n",
            "Epoch 25/150\n",
            "1096/1096 [==============================] - 100s 91ms/step - loss: 0.5477 - accuracy: 0.7760 - val_loss: 0.7962 - val_accuracy: 0.6659\n",
            "Epoch 26/150\n",
            "1096/1096 [==============================] - 99s 91ms/step - loss: 0.5504 - accuracy: 0.7746 - val_loss: 0.7636 - val_accuracy: 0.6852\n",
            "Epoch 27/150\n",
            "1096/1096 [==============================] - 99s 90ms/step - loss: 0.5385 - accuracy: 0.7813 - val_loss: 0.8035 - val_accuracy: 0.6573\n",
            "Epoch 28/150\n",
            "1096/1096 [==============================] - 99s 90ms/step - loss: 0.5426 - accuracy: 0.7789 - val_loss: 0.8199 - val_accuracy: 0.6668\n",
            "Epoch 29/150\n",
            "1096/1096 [==============================] - 98s 90ms/step - loss: 0.5380 - accuracy: 0.7797 - val_loss: 0.7948 - val_accuracy: 0.6757\n",
            "Epoch 30/150\n",
            "1096/1096 [==============================] - 99s 90ms/step - loss: 0.5341 - accuracy: 0.7822 - val_loss: 0.7812 - val_accuracy: 0.6734\n",
            "Epoch 31/150\n",
            "1096/1096 [==============================] - 98s 90ms/step - loss: 0.5338 - accuracy: 0.7834 - val_loss: 0.7787 - val_accuracy: 0.6859\n",
            "Epoch 32/150\n",
            "1096/1096 [==============================] - 98s 90ms/step - loss: 0.5315 - accuracy: 0.7830 - val_loss: 0.8013 - val_accuracy: 0.6618\n",
            "Epoch 33/150\n",
            "1096/1096 [==============================] - 99s 90ms/step - loss: 0.5327 - accuracy: 0.7835 - val_loss: 0.7982 - val_accuracy: 0.6680\n",
            "Epoch 34/150\n",
            "1096/1096 [==============================] - 98s 89ms/step - loss: 0.5243 - accuracy: 0.7862 - val_loss: 0.7697 - val_accuracy: 0.6790\n",
            "Epoch 35/150\n",
            "1096/1096 [==============================] - 98s 89ms/step - loss: 0.5296 - accuracy: 0.7850 - val_loss: 0.7633 - val_accuracy: 0.6862\n",
            "Epoch 36/150\n",
            "1096/1096 [==============================] - 98s 89ms/step - loss: 0.5345 - accuracy: 0.7837 - val_loss: 0.7750 - val_accuracy: 0.6782\n",
            "Epoch 37/150\n",
            "1096/1096 [==============================] - 99s 90ms/step - loss: 0.5256 - accuracy: 0.7862 - val_loss: 0.7852 - val_accuracy: 0.6775\n",
            "Epoch 38/150\n",
            "1096/1096 [==============================] - 98s 89ms/step - loss: 0.5247 - accuracy: 0.7880 - val_loss: 0.7535 - val_accuracy: 0.6882\n",
            "Epoch 39/150\n",
            "1096/1096 [==============================] - 99s 90ms/step - loss: 0.5192 - accuracy: 0.7888 - val_loss: 0.8479 - val_accuracy: 0.6579\n",
            "Epoch 40/150\n",
            "1096/1096 [==============================] - 99s 90ms/step - loss: 0.5219 - accuracy: 0.7871 - val_loss: 0.7485 - val_accuracy: 0.6912\n",
            "Epoch 41/150\n",
            "1096/1096 [==============================] - 99s 90ms/step - loss: 0.5195 - accuracy: 0.7883 - val_loss: 0.8305 - val_accuracy: 0.6737\n",
            "Epoch 42/150\n",
            "1096/1096 [==============================] - 99s 90ms/step - loss: 0.5207 - accuracy: 0.7874 - val_loss: 0.8161 - val_accuracy: 0.6793\n",
            "Epoch 43/150\n",
            "1096/1096 [==============================] - 99s 90ms/step - loss: 0.5161 - accuracy: 0.7902 - val_loss: 0.7408 - val_accuracy: 0.6930\n",
            "Epoch 44/150\n",
            "1096/1096 [==============================] - 99s 90ms/step - loss: 0.5185 - accuracy: 0.7897 - val_loss: 0.7683 - val_accuracy: 0.6817\n",
            "Epoch 45/150\n",
            "1096/1096 [==============================] - 99s 90ms/step - loss: 0.5152 - accuracy: 0.7921 - val_loss: 0.7436 - val_accuracy: 0.6882\n",
            "Epoch 46/150\n",
            "1096/1096 [==============================] - 99s 90ms/step - loss: 0.5166 - accuracy: 0.7903 - val_loss: 0.7486 - val_accuracy: 0.6932\n",
            "Epoch 47/150\n",
            "1096/1096 [==============================] - 99s 90ms/step - loss: 0.5153 - accuracy: 0.7908 - val_loss: 0.7738 - val_accuracy: 0.6822\n",
            "Epoch 48/150\n",
            "1096/1096 [==============================] - 98s 90ms/step - loss: 0.5045 - accuracy: 0.7977 - val_loss: 0.7553 - val_accuracy: 0.6876\n",
            "Epoch 49/150\n",
            "1096/1096 [==============================] - 99s 90ms/step - loss: 0.5028 - accuracy: 0.7962 - val_loss: 0.7821 - val_accuracy: 0.6924\n",
            "Epoch 50/150\n",
            "1096/1096 [==============================] - 100s 92ms/step - loss: 0.5070 - accuracy: 0.7937 - val_loss: 0.8435 - val_accuracy: 0.6671\n",
            "Epoch 51/150\n",
            "1096/1096 [==============================] - 99s 91ms/step - loss: 0.5036 - accuracy: 0.7958 - val_loss: 0.7376 - val_accuracy: 0.7020\n",
            "Desired Accuracy reached\n"
          ],
          "name": "stdout"
        }
      ]
    },
    {
      "cell_type": "code",
      "metadata": {
        "id": "H_6xLVBaudrh"
      },
      "source": [
        "import time\n",
        "saved_model_path = \"./{}.h5\".format(int(time.time()))\n",
        "\n",
        "model.save(saved_model_path)"
      ],
      "execution_count": 23,
      "outputs": []
    },
    {
      "cell_type": "code",
      "metadata": {
        "id": "PGwta4zUudhC",
        "colab": {
          "base_uri": "https://localhost:8080/",
          "height": 449
        },
        "outputId": "6f3aa414-dad1-4fda-dea3-cb96098830b7"
      },
      "source": [
        "sns.set()\n",
        "fig = plt.figure(0, (12, 4))\n",
        "\n",
        "ax = plt.subplot(1, 2, 1)\n",
        "sns.lineplot(history.epoch, history.history['accuracy'], label='train')\n",
        "sns.lineplot(history.epoch, history.history['val_accuracy'], label='valid')\n",
        "plt.title('Accuracy')\n",
        "plt.tight_layout()\n",
        "\n",
        "ax = plt.subplot(1, 2, 2)\n",
        "sns.lineplot(history.epoch, history.history['loss'], label='train')\n",
        "sns.lineplot(history.epoch, history.history['val_loss'], label='valid')\n",
        "plt.title('Loss')\n",
        "plt.tight_layout()\n",
        "\n",
        "plt.savefig('epoch_history_dcnn.png')\n",
        "plt.show()"
      ],
      "execution_count": 25,
      "outputs": [
        {
          "output_type": "stream",
          "text": [
            "/usr/local/lib/python3.7/dist-packages/seaborn/_decorators.py:43: FutureWarning: Pass the following variables as keyword args: x, y. From version 0.12, the only valid positional argument will be `data`, and passing other arguments without an explicit keyword will result in an error or misinterpretation.\n",
            "  FutureWarning\n",
            "/usr/local/lib/python3.7/dist-packages/seaborn/_decorators.py:43: FutureWarning: Pass the following variables as keyword args: x, y. From version 0.12, the only valid positional argument will be `data`, and passing other arguments without an explicit keyword will result in an error or misinterpretation.\n",
            "  FutureWarning\n",
            "/usr/local/lib/python3.7/dist-packages/seaborn/_decorators.py:43: FutureWarning: Pass the following variables as keyword args: x, y. From version 0.12, the only valid positional argument will be `data`, and passing other arguments without an explicit keyword will result in an error or misinterpretation.\n",
            "  FutureWarning\n",
            "/usr/local/lib/python3.7/dist-packages/seaborn/_decorators.py:43: FutureWarning: Pass the following variables as keyword args: x, y. From version 0.12, the only valid positional argument will be `data`, and passing other arguments without an explicit keyword will result in an error or misinterpretation.\n",
            "  FutureWarning\n"
          ],
          "name": "stderr"
        },
        {
          "output_type": "display_data",
          "data": {
            "image/png": "[encoded data removed]",
            "text/plain": [
              "<Figure size 864x288 with 2 Axes>"
            ]
          },
          "metadata": {
            "tags": []
          }
        }
      ]
    }
  ]
}